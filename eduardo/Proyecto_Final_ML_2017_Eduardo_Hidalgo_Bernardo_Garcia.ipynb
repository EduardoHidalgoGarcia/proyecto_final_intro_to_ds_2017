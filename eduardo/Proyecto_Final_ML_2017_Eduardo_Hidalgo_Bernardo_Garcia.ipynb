{
 "cells": [
  {
   "cell_type": "raw",
   "metadata": {},
   "source": [
    "<script>\n",
    "  function code_toggle() {\n",
    "    if (code_shown){\n",
    "      $('div.input').hide('500');\n",
    "      $('#toggleButton').val('Show Code')\n",
    "    } else {\n",
    "      $('div.input').show('500');\n",
    "      $('#toggleButton').val('Hide Code')\n",
    "    }\n",
    "    code_shown = !code_shown\n",
    "  }\n",
    "\n",
    "  $( document ).ready(function(){\n",
    "    code_shown=false;\n",
    "    $('div.input').hide()\n",
    "  });\n",
    "</script>\n",
    "<form action=\"javascript:code_toggle()\"><input type=\"submit\" id=\"toggleButton\" value=\"Show Code\"></form>"
   ]
  },
  {
   "cell_type": "markdown",
   "metadata": {},
   "source": [
    "# Trabajo final Aprendizaje de Máquina: ¿Qué tan popular será un artículo de noticias?\n",
    "\n",
    "\n",
    "\n",
    "<center>Eduardo Hidalgo García 000117037,  Bernardo García Bulle Bueno 000130901</center>\n",
    "\n",
    "<p>*Sugerimos ver este archivo en su versión html debido a que no pudimos hacer que en el formato pdf se leyerán correctamente algunos caracteres*<p>"
   ]
  },
  {
   "cell_type": "markdown",
   "metadata": {},
   "source": [
    "**Resúmen:** Mashable es una empresa global de multi-plataformas de información y entretenimiento digital.  Para este trabajo se obtuvieron datos de un conjunto de características acerca de artículos publicados por *Mashable* en el transcurso de dos años. El objetivo es predecir el numero de veces que un articulo se compartirá en las redes sociales. En términos más coloquiales, en este trabajo se tratará de medir la popularidad de un articulo (instrumentando por el número de veces que será compartido).  Para tal fin se comparán los resultados de tres modelos predictivos : *Random Forest*, *Máquina de soporte vectorial* y *K-vecinos cercanos*. Encontramos que el mejor nivel de *accuracy* lo obtiene el modelo de *Random Forest* de $512$ árboles  y una profuncidad de $16$ niveles de cada árbol con **$65$%** , seguido por la *Maquina de soporte vectorial* de kernel **RBF (Radial Basisi Function)** y parámetro de penalización al error igual a $2$ con **$62$%** y por último el modelo de *K-vecinos cercanos* cuando se definen los pesos de acuerdo a la distancia de cada instancia y se seleccionan 128 instancias con **$61$%**. Los datos se obtuvieron de la base de datos de la Universidad de California en Irvine  (http://archive.ics.uci.edu/ml/datasets/Online+News+Popularity).\n",
    "\n"
   ]
  },
  {
   "cell_type": "code",
   "execution_count": 177,
   "metadata": {
    "collapsed": true
   },
   "outputs": [],
   "source": [
    "%matplotlib inline\n",
    "import pandas as pd\n",
    "import sklearn.preprocessing as pre\n",
    "import sklearn.model_selection as mo\n",
    "import sklearn.ensemble as ens\n",
    "import sklearn.linear_model as lin\n",
    "import sklearn.tree as tree\n",
    "from sklearn.feature_selection import RFE\n",
    "import matplotlib.pyplot as plt\n",
    "import sklearn.svm as svm\n",
    "import sklearn.neighbors as neigh\n",
    "import math\n",
    "import numpy as np\n",
    "import seaborn as sns\n",
    "\n",
    "\n",
    "import numpy as np\n",
    "import matplotlib.pyplot as plt\n",
    "from itertools import cycle\n",
    "\n",
    "from sklearn import svm, datasets\n",
    "from sklearn.metrics import roc_curve, auc, precision_score\n",
    "from sklearn.model_selection import train_test_split\n",
    "from sklearn.preprocessing import label_binarize\n",
    "from sklearn.multiclass import OneVsRestClassifier\n",
    "from scipy import interp\n",
    "\n",
    "\n",
    "def MenosImportante(X, y, Xt, yt, modelo):\n",
    "    maxa=0 #Max. accuracy\n",
    "    maxi=0 #Max. index\n",
    "    for i in range(len(X.keys())):\n",
    "        #print( i, \"/\",len(X.keys()) , end=\"\\r\")\n",
    "        aux=X.copy()\n",
    "        aux2=aux.pop(X.keys()[i])\n",
    "        modelo.fit(X, y)\n",
    "        sc=modelo.score(Xt, yt)\n",
    "        if maxa<sc:\n",
    "            maxa=sc\n",
    "            maxi=i\n",
    "    return (X.keys()[maxi], maxa)\n",
    "        \n",
    "    \n",
    "def MejorarNoticia(X, modelo):\n",
    "    maxa=0 #Max. improvement\n",
    "    maxi=0 #Max. index\n",
    "    sign=0\n",
    "    probi=mod.predict_proba(X)[0][1]\n",
    "    for i in range(len(X.keys())):\n",
    "        aux=X.copy()\n",
    "        aux[X.keys()[i]]=aux[X.keys()[i]]+0.5\n",
    "        prob=mod.predict_proba(aux)[0][1]-probi\n",
    "        if prob>maxa:\n",
    "            maxa=prob\n",
    "            sign=+1\n",
    "            maxi=i\n",
    "        aux=X.copy()\n",
    "        aux[X.keys()[i]]=aux[X.keys()[i]]-0.5\n",
    "        prob=mod.predict_proba(aux)[0][1]-probi\n",
    "        if prob>maxa:\n",
    "            maxa=prob\n",
    "            sign=-1\n",
    "            maxi=i\n",
    "            \n",
    "    return (X.keys()[maxi], maxa, sign)"
   ]
  },
  {
   "cell_type": "markdown",
   "metadata": {},
   "source": [
    "# 1 Introducción\n",
    "<p>En el contexto de la expansión del internet, ha habido un auge en el interés por noticias *en línea*, las cuales tienen como características un rapida y facil dispersión. Por lo que cada vez existe un mayor interes en el estudio de las tendencias de popularidad en las mismas. La popularidad puede ser medida con varias métricas, la que usamos está basada en el número de veces que se comparte un artículo. Este conocimiento es especialmente relevante para personas públicas como políticos, artistas/autores, productores de contenidos, publicistas y más. Por ejemplo, Petrovic et al. (2012) predijo el número de *retweets* usando características relacionadas con el contenido del mismo (ej:número de *hashtags*, menciones, etc.)  y tambien información social relacionada con el autor (ej: número de seguidores, amigos, etc.)</p>\n",
    "\n",
    "<p>La información se extrajo de la base de datos de la Universidad de California en Irvine y consolida información referente a las características del artículo así como de las circustancias de su publicacion (ej: Numero de palabras, numero de imagenes o día de la semana de publicación, numero de veces que se compartió, entre otras características para un total de 50). Para las predicciones finales se adoptó un enfoque binario (popular/no popular) basado en un límite inferior igual a 1,500  veces que se compartió el árticulo  y probamos con tres distintos modelos depredicción: *Random Forest*, *Máquina de soporte vectorial* y *K-vecinos cercanos*. Además, previó al modelado buscamos optimizar la cantidad de variables a utlizar en el modelos mediante un *modelo de regresión decremental*</p>"
   ]
  },
  {
   "cell_type": "markdown",
   "metadata": {},
   "source": [
    "# 2 Materiales y Métodos\n",
    "\n",
    "## 2.1 Metodología\n",
    "\n",
    "* **Selección de variable a predecir.-** Veremos si podemos encontrar modelos que predigan el número de de veces qeu se comparte un artículo (modelo de regresión) o en su defecto, que clasifiquen a los artículos en más compartidos y menos compartidos (modelo de clasificación). \n",
    "\n",
    "* **Selección de Modelo para filtrado de variables.-** Posteriormente, buscaremos someramente un buen modelo _baseline_ para hacer una selección de variables para incorporar en los modelos de predicción. \n",
    "\n",
    "* **Selección de variables independientes.-** Con base en el modelo _baseline_, haremos eliminación recursiva de variables. Luego graficaremos las pérdidas por cada variable que se quita para escoger la cantidad justa de variables que no sean demasiadas, y al mismo tiempo no perdamos poder predictivo. \n",
    "\n",
    "* **Selección de Hiper-parametros para los modelos de predicción.-** Posteriormente haremos una malla de hiperparámetros para tres distintos modelos, optimizaremos los tres y elegiremos un favorito. \n",
    "\n",
    "* **Evaluación de límite de clasificación.-** Finalmente evaluaremos distintos límites de clásificación, para el modelo con mayor accuracy, usando una curva ROC y también comparando el porcentaje de noticias clasificadas como populares bajo distintos thresholds con el porcentaje de predicciones correctas.\n",
    "\n",
    "* Al final se detallan los resultados en la conclusión.\n",
    "\n",
    "\n",
    "Durante todo este proceso nuestra métrica a optimizar y analizar será la precisión de las predicciones: es decir, el porcentaje de observaciones que fueron predichas correctamente. Lo anterior es porque:\n",
    "\n",
    "* Un modelo con buen porcentaje de predicciones (mayor al mayor valor posible prediciendo la misma clase a todos las observaciones) sirve para la toma de decisiones\n",
    "\n",
    "* Es una métrica fácil de entender y explicar. Si una junta directiva usara una métrica como el F1-score o el área bajo la curva ROC, es posible que miembros sin preparación técnica no lograran entender el modelo a profundidad. Por lo tanto, dado que nuestro modelo es aplicable, elegimos una métrica entendible a nivel general. \n",
    "\n",
    "\n",
    "## 2.2 Obtención de la información y Limpieza de la base\n",
    "\n",
    "<p> De la base de datos de la Universidad de California en Irvine obtuvimos la sigueinte infromación. El  primero paso que seguimos fue limpiar la base de datos. La siguiente tabla, muestra la información tal como se recibió:"
   ]
  },
  {
   "cell_type": "code",
   "execution_count": 73,
   "metadata": {},
   "outputs": [
    {
     "data": {
      "text/html": [
       "<div>\n",
       "<style scoped>\n",
       "    .dataframe tbody tr th:only-of-type {\n",
       "        vertical-align: middle;\n",
       "    }\n",
       "\n",
       "    .dataframe tbody tr th {\n",
       "        vertical-align: top;\n",
       "    }\n",
       "\n",
       "    .dataframe thead th {\n",
       "        text-align: right;\n",
       "    }\n",
       "</style>\n",
       "<table border=\"1\" class=\"dataframe\">\n",
       "  <thead>\n",
       "    <tr style=\"text-align: right;\">\n",
       "      <th></th>\n",
       "      <th>url</th>\n",
       "      <th>timedelta</th>\n",
       "      <th>n_tokens_title</th>\n",
       "      <th>n_tokens_content</th>\n",
       "      <th>n_unique_tokens</th>\n",
       "      <th>n_non_stop_words</th>\n",
       "      <th>n_non_stop_unique_tokens</th>\n",
       "      <th>num_hrefs</th>\n",
       "      <th>num_self_hrefs</th>\n",
       "      <th>num_imgs</th>\n",
       "      <th>...</th>\n",
       "      <th>min_positive_polarity</th>\n",
       "      <th>max_positive_polarity</th>\n",
       "      <th>avg_negative_polarity</th>\n",
       "      <th>min_negative_polarity</th>\n",
       "      <th>max_negative_polarity</th>\n",
       "      <th>title_subjectivity</th>\n",
       "      <th>title_sentiment_polarity</th>\n",
       "      <th>abs_title_subjectivity</th>\n",
       "      <th>abs_title_sentiment_polarity</th>\n",
       "      <th>shares</th>\n",
       "    </tr>\n",
       "  </thead>\n",
       "  <tbody>\n",
       "    <tr>\n",
       "      <th>0</th>\n",
       "      <td>http://mashable.com/2013/01/07/amazon-instant-...</td>\n",
       "      <td>731.0</td>\n",
       "      <td>12.0</td>\n",
       "      <td>219.0</td>\n",
       "      <td>0.663594</td>\n",
       "      <td>1.0</td>\n",
       "      <td>0.815385</td>\n",
       "      <td>4.0</td>\n",
       "      <td>2.0</td>\n",
       "      <td>1.0</td>\n",
       "      <td>...</td>\n",
       "      <td>0.100000</td>\n",
       "      <td>0.7</td>\n",
       "      <td>-0.350000</td>\n",
       "      <td>-0.600</td>\n",
       "      <td>-0.200000</td>\n",
       "      <td>0.500000</td>\n",
       "      <td>-0.187500</td>\n",
       "      <td>0.000000</td>\n",
       "      <td>0.187500</td>\n",
       "      <td>593</td>\n",
       "    </tr>\n",
       "    <tr>\n",
       "      <th>1</th>\n",
       "      <td>http://mashable.com/2013/01/07/ap-samsung-spon...</td>\n",
       "      <td>731.0</td>\n",
       "      <td>9.0</td>\n",
       "      <td>255.0</td>\n",
       "      <td>0.604743</td>\n",
       "      <td>1.0</td>\n",
       "      <td>0.791946</td>\n",
       "      <td>3.0</td>\n",
       "      <td>1.0</td>\n",
       "      <td>1.0</td>\n",
       "      <td>...</td>\n",
       "      <td>0.033333</td>\n",
       "      <td>0.7</td>\n",
       "      <td>-0.118750</td>\n",
       "      <td>-0.125</td>\n",
       "      <td>-0.100000</td>\n",
       "      <td>0.000000</td>\n",
       "      <td>0.000000</td>\n",
       "      <td>0.500000</td>\n",
       "      <td>0.000000</td>\n",
       "      <td>711</td>\n",
       "    </tr>\n",
       "    <tr>\n",
       "      <th>2</th>\n",
       "      <td>http://mashable.com/2013/01/07/apple-40-billio...</td>\n",
       "      <td>731.0</td>\n",
       "      <td>9.0</td>\n",
       "      <td>211.0</td>\n",
       "      <td>0.575130</td>\n",
       "      <td>1.0</td>\n",
       "      <td>0.663866</td>\n",
       "      <td>3.0</td>\n",
       "      <td>1.0</td>\n",
       "      <td>1.0</td>\n",
       "      <td>...</td>\n",
       "      <td>0.100000</td>\n",
       "      <td>1.0</td>\n",
       "      <td>-0.466667</td>\n",
       "      <td>-0.800</td>\n",
       "      <td>-0.133333</td>\n",
       "      <td>0.000000</td>\n",
       "      <td>0.000000</td>\n",
       "      <td>0.500000</td>\n",
       "      <td>0.000000</td>\n",
       "      <td>1500</td>\n",
       "    </tr>\n",
       "    <tr>\n",
       "      <th>3</th>\n",
       "      <td>http://mashable.com/2013/01/07/astronaut-notre...</td>\n",
       "      <td>731.0</td>\n",
       "      <td>9.0</td>\n",
       "      <td>531.0</td>\n",
       "      <td>0.503788</td>\n",
       "      <td>1.0</td>\n",
       "      <td>0.665635</td>\n",
       "      <td>9.0</td>\n",
       "      <td>0.0</td>\n",
       "      <td>1.0</td>\n",
       "      <td>...</td>\n",
       "      <td>0.136364</td>\n",
       "      <td>0.8</td>\n",
       "      <td>-0.369697</td>\n",
       "      <td>-0.600</td>\n",
       "      <td>-0.166667</td>\n",
       "      <td>0.000000</td>\n",
       "      <td>0.000000</td>\n",
       "      <td>0.500000</td>\n",
       "      <td>0.000000</td>\n",
       "      <td>1200</td>\n",
       "    </tr>\n",
       "    <tr>\n",
       "      <th>4</th>\n",
       "      <td>http://mashable.com/2013/01/07/att-u-verse-apps/</td>\n",
       "      <td>731.0</td>\n",
       "      <td>13.0</td>\n",
       "      <td>1072.0</td>\n",
       "      <td>0.415646</td>\n",
       "      <td>1.0</td>\n",
       "      <td>0.540890</td>\n",
       "      <td>19.0</td>\n",
       "      <td>19.0</td>\n",
       "      <td>20.0</td>\n",
       "      <td>...</td>\n",
       "      <td>0.033333</td>\n",
       "      <td>1.0</td>\n",
       "      <td>-0.220192</td>\n",
       "      <td>-0.500</td>\n",
       "      <td>-0.050000</td>\n",
       "      <td>0.454545</td>\n",
       "      <td>0.136364</td>\n",
       "      <td>0.045455</td>\n",
       "      <td>0.136364</td>\n",
       "      <td>505</td>\n",
       "    </tr>\n",
       "  </tbody>\n",
       "</table>\n",
       "<p>5 rows × 61 columns</p>\n",
       "</div>"
      ],
      "text/plain": [
       "                                                 url   timedelta  \\\n",
       "0  http://mashable.com/2013/01/07/amazon-instant-...       731.0   \n",
       "1  http://mashable.com/2013/01/07/ap-samsung-spon...       731.0   \n",
       "2  http://mashable.com/2013/01/07/apple-40-billio...       731.0   \n",
       "3  http://mashable.com/2013/01/07/astronaut-notre...       731.0   \n",
       "4   http://mashable.com/2013/01/07/att-u-verse-apps/       731.0   \n",
       "\n",
       "    n_tokens_title   n_tokens_content   n_unique_tokens   n_non_stop_words  \\\n",
       "0             12.0              219.0          0.663594                1.0   \n",
       "1              9.0              255.0          0.604743                1.0   \n",
       "2              9.0              211.0          0.575130                1.0   \n",
       "3              9.0              531.0          0.503788                1.0   \n",
       "4             13.0             1072.0          0.415646                1.0   \n",
       "\n",
       "    n_non_stop_unique_tokens   num_hrefs   num_self_hrefs   num_imgs   ...     \\\n",
       "0                   0.815385         4.0              2.0        1.0   ...      \n",
       "1                   0.791946         3.0              1.0        1.0   ...      \n",
       "2                   0.663866         3.0              1.0        1.0   ...      \n",
       "3                   0.665635         9.0              0.0        1.0   ...      \n",
       "4                   0.540890        19.0             19.0       20.0   ...      \n",
       "\n",
       "    min_positive_polarity   max_positive_polarity   avg_negative_polarity  \\\n",
       "0                0.100000                     0.7               -0.350000   \n",
       "1                0.033333                     0.7               -0.118750   \n",
       "2                0.100000                     1.0               -0.466667   \n",
       "3                0.136364                     0.8               -0.369697   \n",
       "4                0.033333                     1.0               -0.220192   \n",
       "\n",
       "    min_negative_polarity   max_negative_polarity   title_subjectivity  \\\n",
       "0                  -0.600               -0.200000             0.500000   \n",
       "1                  -0.125               -0.100000             0.000000   \n",
       "2                  -0.800               -0.133333             0.000000   \n",
       "3                  -0.600               -0.166667             0.000000   \n",
       "4                  -0.500               -0.050000             0.454545   \n",
       "\n",
       "    title_sentiment_polarity   abs_title_subjectivity  \\\n",
       "0                  -0.187500                 0.000000   \n",
       "1                   0.000000                 0.500000   \n",
       "2                   0.000000                 0.500000   \n",
       "3                   0.000000                 0.500000   \n",
       "4                   0.136364                 0.045455   \n",
       "\n",
       "    abs_title_sentiment_polarity   shares  \n",
       "0                       0.187500      593  \n",
       "1                       0.000000      711  \n",
       "2                       0.000000     1500  \n",
       "3                       0.000000     1200  \n",
       "4                       0.136364      505  \n",
       "\n",
       "[5 rows x 61 columns]"
      ]
     },
     "execution_count": 73,
     "metadata": {},
     "output_type": "execute_result"
    }
   ],
   "source": [
    "Base=pd.read_csv(\"OnlineNewsPopularity.csv\")\n",
    "Base.head()"
   ]
  },
  {
   "cell_type": "markdown",
   "metadata": {},
   "source": [
    "Sin embago, para este trabajo decidimos trabajar únicamente con variables de los tipos:\n",
    "* Binarias\n",
    "* Flotantes o dobles\n",
    "* Enteros\n",
    "A continuación se revisa el tipo de variables de la base original.\n",
    "\n",
    "Por lo tanto, primero imprimiremos el tipo de cada variable"
   ]
  },
  {
   "cell_type": "code",
   "execution_count": 74,
   "metadata": {
    "scrolled": true
   },
   "outputs": [
    {
     "data": {
      "text/plain": [
       "url                                object\n",
       " timedelta                        float64\n",
       " n_tokens_title                   float64\n",
       " n_tokens_content                 float64\n",
       " n_unique_tokens                  float64\n",
       " n_non_stop_words                 float64\n",
       " n_non_stop_unique_tokens         float64\n",
       " num_hrefs                        float64\n",
       " num_self_hrefs                   float64\n",
       " num_imgs                         float64\n",
       " num_videos                       float64\n",
       " average_token_length             float64\n",
       " num_keywords                     float64\n",
       " data_channel_is_lifestyle        float64\n",
       " data_channel_is_entertainment    float64\n",
       " data_channel_is_bus              float64\n",
       " data_channel_is_socmed           float64\n",
       " data_channel_is_tech             float64\n",
       " data_channel_is_world            float64\n",
       " kw_min_min                       float64\n",
       " kw_max_min                       float64\n",
       " kw_avg_min                       float64\n",
       " kw_min_max                       float64\n",
       " kw_max_max                       float64\n",
       " kw_avg_max                       float64\n",
       " kw_min_avg                       float64\n",
       " kw_max_avg                       float64\n",
       " kw_avg_avg                       float64\n",
       " self_reference_min_shares        float64\n",
       " self_reference_max_shares        float64\n",
       " self_reference_avg_sharess       float64\n",
       " weekday_is_monday                float64\n",
       " weekday_is_tuesday               float64\n",
       " weekday_is_wednesday             float64\n",
       " weekday_is_thursday              float64\n",
       " weekday_is_friday                float64\n",
       " weekday_is_saturday              float64\n",
       " weekday_is_sunday                float64\n",
       " is_weekend                       float64\n",
       " LDA_00                           float64\n",
       " LDA_01                           float64\n",
       " LDA_02                           float64\n",
       " LDA_03                           float64\n",
       " LDA_04                           float64\n",
       " global_subjectivity              float64\n",
       " global_sentiment_polarity        float64\n",
       " global_rate_positive_words       float64\n",
       " global_rate_negative_words       float64\n",
       " rate_positive_words              float64\n",
       " rate_negative_words              float64\n",
       " avg_positive_polarity            float64\n",
       " min_positive_polarity            float64\n",
       " max_positive_polarity            float64\n",
       " avg_negative_polarity            float64\n",
       " min_negative_polarity            float64\n",
       " max_negative_polarity            float64\n",
       " title_subjectivity               float64\n",
       " title_sentiment_polarity         float64\n",
       " abs_title_subjectivity           float64\n",
       " abs_title_sentiment_polarity     float64\n",
       " shares                             int64\n",
       "dtype: object"
      ]
     },
     "execution_count": 74,
     "metadata": {},
     "output_type": "execute_result"
    }
   ],
   "source": [
    "pd.options.display.max_rows = 999\n",
    "Base.dtypes"
   ]
  },
  {
   "cell_type": "markdown",
   "metadata": {},
   "source": [
    "Suponemos que cuando uno accede a una noticia, la mayoría de las veces, se hace a través de un direccionamiento y no al escribir la url en la barra de direcciones. Es por lo anterior, que suponemos a la URL ortogonal (o independiente) a la popularidad que pueda tener una noticia. Por lo tanto eliminaremos esa característica. Para continuar con la limpieza, normalizaremos la base de datos. "
   ]
  },
  {
   "cell_type": "code",
   "execution_count": 75,
   "metadata": {
    "collapsed": true
   },
   "outputs": [],
   "source": [
    "aux=Base.pop('url')"
   ]
  },
  {
   "cell_type": "markdown",
   "metadata": {},
   "source": [
    "A continuación, dividiremos la base en variables independientes y la variable dependiente. Posteriormente, subdividiremos en conjunto de entrenamiento y conjunto de prueba.  "
   ]
  },
  {
   "cell_type": "code",
   "execution_count": 76,
   "metadata": {
    "collapsed": true
   },
   "outputs": [],
   "source": [
    "Y=Base.pop(' shares')\n",
    "X=Base.copy()\n",
    "Xtrain,Xtest,Ytrain, Ytest = mo.train_test_split(X, Y, random_state=555953)"
   ]
  },
  {
   "cell_type": "markdown",
   "metadata": {},
   "source": [
    "A continuación, normalizaremos la base de datos de variables independientes."
   ]
  },
  {
   "cell_type": "code",
   "execution_count": 77,
   "metadata": {
    "collapsed": true
   },
   "outputs": [],
   "source": [
    "stand=pre.StandardScaler()\n",
    "stand.fit(Xtrain)\n",
    "Xtrainst=pd.DataFrame(stand.transform(Xtrain), columns=Xtrain.keys())\n",
    "Xtestst=pd.DataFrame(stand.transform(Xtest), columns=Xtrain.keys())"
   ]
  },
  {
   "cell_type": "markdown",
   "metadata": {},
   "source": [
    "# 3 Selección y Evaluación del modelo de predicción"
   ]
  },
  {
   "cell_type": "markdown",
   "metadata": {},
   "source": [
    "## 3.1 Selección de variable a predecir\n",
    "\n",
    "Haremos un modelo de regresión decremental para la selección de variables donde iremos quitando la variable que menos ayude al análisis sucesivamente hasta reducir la cantidad de atributos que tenemos. Antes de emprender esto, averiguaremos qué modelo es el que mejor funciona con las variables como están ahora. Con base en ese modelo, podremos hacer selección de variables.\n",
    "\n",
    "En esta sección, volveremos a partir nuestro training set en un \"mini\"training set, y un \"mini\" test set. Así, podremos probar algoritmos para la selección de variables con datos no vistos, que no sean del verdadero test set.\n",
    "\n",
    "Nos vimos en la necesidad de convertir la variable _output_ en un clasificador por haber tenido malos resultados con modelos de regresion. Una vez seleccionado el tipo de modelo, regresión o clasificación, seleccionamos el limite de la variable _output_ para considerar el articulo como popular. A continuación se presentan dos límites para este clasificador.  "
   ]
  },
  {
   "cell_type": "markdown",
   "metadata": {},
   "source": [
    "### Intento 1.- Popular implica ser del 20% de artículos con mayor numero de veces compatidos en redes "
   ]
  },
  {
   "cell_type": "markdown",
   "metadata": {},
   "source": [
    "Un intento es exitoso cuando encontramos un modelo _baseline_ que lo prediga correctamente."
   ]
  },
  {
   "cell_type": "code",
   "execution_count": 7,
   "metadata": {},
   "outputs": [
    {
     "name": "stdout",
     "output_type": "stream",
     "text": [
      "0.19883630982410117\n"
     ]
    }
   ],
   "source": [
    "print(sum(Ytrain>=3500)/sum(Ytrain>=0))"
   ]
  },
  {
   "cell_type": "code",
   "execution_count": 8,
   "metadata": {},
   "outputs": [
    {
     "name": "stdout",
     "output_type": "stream",
     "text": [
      "depth= 512  nest= 512\r"
     ]
    },
    {
     "data": {
      "text/plain": [
       "[Text(33,0.5,'Profundidad máxima de cada árbol'),\n",
       " Text(0.5,15,'Número de estimadores')]"
      ]
     },
     "execution_count": 8,
     "metadata": {},
     "output_type": "execute_result"
    },
    {
     "data": {
      "image/png": "[encoded data removed]",
      "text/plain": [
       "<matplotlib.figure.Figure at 0x106e33198>"
      ]
     },
     "metadata": {},
     "output_type": "display_data"
    }
   ],
   "source": [
    "Xtraintemp,Xtesttemp,Ytraintemp, Ytesttemp = mo.train_test_split(Xtrainst, Ytrain, random_state=555953)\n",
    "Ytraintemp=(Ytraintemp>3500)\n",
    "Ytesttemp=(Ytesttemp>3500)\n",
    "accuracies=[]\n",
    "i=0\n",
    "for depth in [1, 2, 4, 8, 16, 32, 64, 128, 256, 512]:\n",
    "    accuracies.append([])\n",
    "    for nest in [1, 2, 4, 8, 16, 32, 64, 128, 256, 512]:\n",
    "        print(\"depth=\", depth, \" nest=\", nest, end=\"\\r\")\n",
    "        mod=ens.RandomForestClassifier(n_estimators=nest, max_depth=depth)\n",
    "        mod.fit(Xtraintemp,Ytraintemp)\n",
    "        accuracies[i].append(mod.score(Xtesttemp,Ytesttemp))\n",
    "    i=i+1\n",
    "ax = sns.heatmap(accuracies, yticklabels=[1, 2, 4, 8, 16, 32, 64, 128, 256, 512],  xticklabels=[1, 2, 4, 8, 16, 32, 64, 128, 256, 512])\n",
    "ax.set(xlabel='Número de estimadores', ylabel='Profundidad máxima de cada árbol')\n"
   ]
  },
  {
   "cell_type": "markdown",
   "metadata": {},
   "source": [
    " Tuvimos un mal resultado pues separamos los 20% artículos más compartidos, y la precisión máxima fue de 80%. Dado que intentamos predecir el 20% más exitoso, un algoritmo que prediga a todos \"no exitoso\" obtendría 80% de éxito. Dado que ése fue el éxito máximo, no usaremos esta etiqueta."
   ]
  },
  {
   "cell_type": "markdown",
   "metadata": {},
   "source": [
    "### Intento 2.- Popular implica ser del 49% de artículos con mayor numero de veces compatidos en redes "
   ]
  },
  {
   "cell_type": "markdown",
   "metadata": {},
   "source": [
    "Por lo anterior, decidimos partir a los artículos entre los que fueron compartidos más de 1500 veces (populares) y los que fueron compartidos menos de 1500 veces (no populares). El resultado fue mucho mejor, logramos ver que la precisión roza el 68%. Dado que (aproximadamente) la mitad de los artículos tienen la variable dependiente con 1 y la otra mitad con 0, un clasificador \"bruto\" que asigne lo mismo a todo, está topado a un éxito del 50%. Cualquier precisión sobre ésa será de un clasificador mejor al \"bruto\"."
   ]
  },
  {
   "cell_type": "code",
   "execution_count": 9,
   "metadata": {
    "scrolled": true
   },
   "outputs": [
    {
     "name": "stdout",
     "output_type": "stream",
     "text": [
      "0.4936602428278344\n"
     ]
    }
   ],
   "source": [
    "print(sum(Ytrain>=1500)/sum(Ytrain>=0))"
   ]
  },
  {
   "cell_type": "code",
   "execution_count": 10,
   "metadata": {},
   "outputs": [
    {
     "name": "stdout",
     "output_type": "stream",
     "text": [
      "depth= 64  nest= 512\r"
     ]
    }
   ],
   "source": [
    "Xtraintemp,Xtesttemp,Ytraintemp, Ytesttemp = mo.train_test_split(Xtrainst, Ytrain, random_state=555953)\n",
    "Ytraintemp=(Ytraintemp>1500)\n",
    "Ytesttemp=(Ytesttemp>1500)\n",
    "accuracies=[]\n",
    "i=0\n",
    "for depth in [1, 2, 4, 8, 16, 32, 64]:\n",
    "    accuracies.append([])\n",
    "    for nest in [1, 2, 4, 8, 16, 32, 64, 128, 256, 512]:\n",
    "        print(\"depth=\", depth, \" nest=\", nest, end=\"\\r\")\n",
    "        mod=ens.RandomForestClassifier(n_estimators=nest, max_depth=depth)\n",
    "        mod.fit(Xtraintemp,Ytraintemp)\n",
    "        accuracies[i].append(mod.score(Xtesttemp,Ytesttemp))\n",
    "    i=i+1\n"
   ]
  },
  {
   "cell_type": "code",
   "execution_count": 11,
   "metadata": {
    "scrolled": true
   },
   "outputs": [
    {
     "data": {
      "text/plain": [
       "[Text(33,0.5,'Profundidad máxima de cada árbol'),\n",
       " Text(0.5,15,'Número de estimadores')]"
      ]
     },
     "execution_count": 11,
     "metadata": {},
     "output_type": "execute_result"
    },
    {
     "data": {
      "image/png": "[encoded data removed]",
      "text/plain": [
       "<matplotlib.figure.Figure at 0x10dfeec50>"
      ]
     },
     "metadata": {},
     "output_type": "display_data"
    }
   ],
   "source": [
    "ax = sns.heatmap(accuracies, yticklabels=[1, 2, 4, 8, 16, 32, 64],   xticklabels=[1, 2, 4, 8, 16, 32, 64, 128, 256, 512])\n",
    "ax.set(xlabel='Número de estimadores', ylabel='Profundidad máxima de cada árbol')"
   ]
  },
  {
   "cell_type": "markdown",
   "metadata": {},
   "source": [
    "En el mapa de calor de arriba se sugiere que la mejor precisión se obtiene con una profundida de 16  o 32 nodos, y un número de estimadores o arboles entre 128 y 512. \n",
    "\n",
    "Ahora, podremos hacer nuestro método de eliminación recursiva de variables. Lo ideal, sería correr ese programa con el modelo ideal visto arriba. Esto porque finalmente buscaremos las mejores variables para el mejor modelo. Sin embargo, supondremos que la base tiene cierta \"monotonicidad\". Esto es, que para distintos híperparámetros (peores o mejores), las variables más importantes son las mismas. Por lo tanto, optimizaremos con una combinación no mala como sería depth=1 y n_estimators=1, pero tampoco idea como las primeras mencionadas ya que tardaría bastante. Nos decidimos por depth=4, y número de estimadores=8."
   ]
  },
  {
   "cell_type": "markdown",
   "metadata": {},
   "source": [
    "## 3.2 Eliminación recursiva de variables"
   ]
  },
  {
   "cell_type": "markdown",
   "metadata": {},
   "source": [
    "Usaremos el modelo _baseline_ decidido arriba para ir quitando variables recursivamente. Nuestra función corre el modelo baseline quitando una variable a la vez y devuelve la variable que menos disminuyo el accuracy rate al ser removida. El ciclo programado abajo hace esto recursivamente hasta que quedan cinco variables. Así podemos ver cuál es la máxima precisión limitando cada vez más el número de variables"
   ]
  },
  {
   "cell_type": "code",
   "execution_count": 12,
   "metadata": {
    "collapsed": true
   },
   "outputs": [],
   "source": [
    "Xtraintemp,Xtesttemp,Ytraintemp, Ytesttemp = mo.train_test_split(Xtrainst, Ytrain, random_state=555953)\n",
    "Ytraintemp=(Ytraintemp>1500)\n",
    "Ytesttemp=(Ytesttemp>1500)\n",
    "mod=ens.RandomForestClassifier(n_estimators=8, max_depth=4, random_state=555953)\n",
    "menos_importantes=[]\n",
    "precisiones=[]\n",
    "XTRT=Xtraintemp.copy()\n",
    "YTRT=Ytraintemp.copy()\n",
    "XTTT=Xtesttemp.copy()\n",
    "YTTT=Ytesttemp.copy()\n",
    "for j in range(len(XTRT.keys())-5):\n",
    "    mine, maxa=MenosImportante(XTRT, YTRT,XTTT, YTTT , mod)\n",
    "    menos_importantes.append(mine)\n",
    "    precisiones.append(maxa)\n",
    "    aux=XTRT.pop(mine)\n",
    "    aux=XTTT.pop(mine)\n",
    "    "
   ]
  },
  {
   "cell_type": "code",
   "execution_count": 13,
   "metadata": {
    "scrolled": true
   },
   "outputs": [
    {
     "data": {
      "image/png": "[encoded data removed]",
      "text/plain": [
       "<matplotlib.figure.Figure at 0x128278dd8>"
      ]
     },
     "metadata": {},
     "output_type": "display_data"
    }
   ],
   "source": [
    "ticks=[]\n",
    "for j in range(len(Xtraintemp.keys())-5):\n",
    "    ticks.append(len(Xtraintemp.keys())-1-j)\n",
    "\n",
    "plt.plot(ticks,precisiones)\n",
    "plt.ylabel('Precisión')\n",
    "plt.scatter(ticks[26], precisiones[26], color='red')\n",
    "plt.xticks([10, 20,ticks[26], 30, 40, 50, 60] )\n",
    "plt.yticks([0.56, 0.58, 0.6, 0.62, precisiones[26], 0.66])\n",
    "plt.axvline(x=ticks[26], color='red')\n",
    "plt.axhline(y=precisiones[26], color='red')\n",
    "\n",
    "plt.show()\n"
   ]
  },
  {
   "cell_type": "markdown",
   "metadata": {},
   "source": [
    "**Hemos elegido quedarnos con las mejores 32 variables**, ya que la pérdida en la que incurrimos por perder el resto (24) es menor al 2.3% en la precisión. Sin embargo, perder cualquiera de estas 32 variables nos llevaría a perder, como mínimo, 3%. Para la operación de quitarlas, vemos que todas las variables (que ya tenemos ordenadas por importancia) antes de la 27 son prescindibles. Por lo tanto las quitaremos"
   ]
  },
  {
   "cell_type": "code",
   "execution_count": 14,
   "metadata": {
    "collapsed": true
   },
   "outputs": [],
   "source": [
    "xtrainsel=Xtrainst.copy()\n",
    "Xteststsel=Xtestst.copy()\n",
    "for j in range(27):\n",
    "    aux=xtrainsel.pop(menos_importantes[j])\n",
    "    aux=Xteststsel.pop(menos_importantes[j])\n",
    "    "
   ]
  },
  {
   "cell_type": "markdown",
   "metadata": {},
   "source": [
    "## 3.3 Modelado\n",
    "\n",
    "Como hicimos antes, una vez más haremos grids de los hiperparámetros posibles, para ver cuál es la mejor elección en cada modelo; e incluso poderlos comparar. Elegimos tres modelos:\n",
    "\n",
    "* Random forest\n",
    "* Máquina de soporte vectorial\n",
    "* K-vecinos más cercanos\n",
    "\n",
    "Para cada uno elegimos dos parámetros que afinar y graficamos un mapa de calor que representa una malla con todas las combinaciones posibles. "
   ]
  },
  {
   "cell_type": "markdown",
   "metadata": {},
   "source": [
    "### Random forest\n",
    "\n",
    "En este modelo, usaremos una malla donde comparamos el desempeño de sus predicciones para distintas profundidades máximas para cada árbol, y distinto número de estimadores (árboles). Elegiremos la combinación que arroje la mayor precisión."
   ]
  },
  {
   "cell_type": "code",
   "execution_count": 15,
   "metadata": {},
   "outputs": [
    {
     "name": "stdout",
     "output_type": "stream",
     "text": [
      "depth= 512  nest= 51232  nest= 4 128  nest= 4\r"
     ]
    },
    {
     "data": {
      "text/plain": [
       "[Text(33,0.5,'Profundidad máxima de cada árbol'),\n",
       " Text(0.5,15,'Número de estimadores')]"
      ]
     },
     "execution_count": 15,
     "metadata": {},
     "output_type": "execute_result"
    },
    {
     "data": {
      "image/png": "[encoded data removed]",
      "text/plain": [
       "<matplotlib.figure.Figure at 0x128275eb8>"
      ]
     },
     "metadata": {},
     "output_type": "display_data"
    }
   ],
   "source": [
    "Xtraintemp,Xtesttemp,Ytraintemp, Ytesttemp = mo.train_test_split(xtrainsel, Ytrain, random_state=555953)\n",
    "Ytraintemp=(Ytraintemp>1500)\n",
    "Ytesttemp=(Ytesttemp>1500)\n",
    "accuracies=[]\n",
    "i=0\n",
    "for depth in [1, 2, 4, 8, 16, 32, 64, 128, 256, 512]:\n",
    "    accuracies.append([])\n",
    "    for nest in [1, 2, 4, 8, 16, 32, 64, 128, 256, 512]:\n",
    "        print(\"depth=\", depth, \" nest=\", nest, end=\"\\r\")\n",
    "        mod=ens.RandomForestClassifier(n_estimators=nest, max_depth=depth, random_state=555953)\n",
    "        mod.fit(Xtraintemp,Ytraintemp)\n",
    "        accuracies[i].append(mod.score(Xtesttemp,Ytesttemp))\n",
    "    i=i+1\n",
    "ax = sns.heatmap(accuracies, yticklabels=[1, 2, 4, 8, 16, 32, 64, 128, 256, 512],  xticklabels=[1, 2, 4, 8, 16, 32, 64, 128, 256, 512])\n",
    "ax.set(xlabel='Número de estimadores', ylabel='Profundidad máxima de cada árbol')"
   ]
  },
  {
   "cell_type": "markdown",
   "metadata": {},
   "source": [
    "Vemos que añadir profundidad más allá de 16 no ayuda. Por otro lado, vemos que el mejor número de estimadores es 512. Sugerimos que la mejor combinación es máxima profundidad=16 y máximo número de estimadores=512.\n",
    "\n",
    "### Máquina de soporte vectorial\n",
    "\n",
    "Ahora probaremos el desempeño de máquinas de soporte vectorial. En estos, decidimos variar el tipo de Kernel, y el parámetro de penalty del error. "
   ]
  },
  {
   "cell_type": "code",
   "execution_count": 23,
   "metadata": {},
   "outputs": [
    {
     "name": "stdout",
     "output_type": "stream",
     "text": [
      "C= 16.0  nest= polyoid\r"
     ]
    },
    {
     "data": {
      "text/plain": [
       "[Text(33,0.5,'C'), Text(0.5,15,'Kernel')]"
      ]
     },
     "execution_count": 23,
     "metadata": {},
     "output_type": "execute_result"
    },
    {
     "data": {
      "image/png": "[encoded data removed]",
      "text/plain": [
       "<matplotlib.figure.Figure at 0x10e881d30>"
      ]
     },
     "metadata": {},
     "output_type": "display_data"
    }
   ],
   "source": [
    "Xtraintemp,Xtesttemp,Ytraintemp, Ytesttemp = mo.train_test_split(xtrainsel, Ytrain, random_state=555953)\n",
    "Ytraintemp=(Ytraintemp>1500)\n",
    "Ytesttemp=(Ytesttemp>1500)\n",
    "accuracies=[]\n",
    "i=0\n",
    "for C in [0.1, 0.2, 0.4, 1.0, 2.0, 4.0, 8.0, 16.0]:\n",
    "    accuracies.append([])\n",
    "    for kernel in ['linear', 'rbf', 'sigmoid', 'poly']:\n",
    "        print(\"C=\", C, \" nest=\", kernel, end=\"\\r\")\n",
    "        mod=svm.SVC(C=C, kernel=kernel, random_state=555953)\n",
    "        mod.fit(Xtraintemp,Ytraintemp)\n",
    "        accuracies[i].append(mod.score(Xtesttemp,Ytesttemp))\n",
    "    i=i+1\n",
    "ax = sns.heatmap(accuracies, yticklabels=[0.1, 0.2, 0.4, 1.0, 2.0, 4.0, 8.0, 16.0],  xticklabels=['linear', 'rbf', 'sigmoid', 'poly'])\n",
    "ax.set(xlabel='Kernel', ylabel='C')"
   ]
  },
  {
   "cell_type": "markdown",
   "metadata": {},
   "source": [
    "Encontramos que lo mejor parece ser el Kernel  **RBF (Radial Basis Function)** con un parámetro de penalty de error de 2.0\n",
    "\n",
    "### K vecinos más cercanos\n",
    "\n",
    "Finalmente intentaremos mejorar el accuracy rate con un modelo de K vecinos más cercanos variando dos hiperparámetros: el número de vecinos (de 1 a 256) y el peso de cada vecino (ponderado por distancia o uniforme)."
   ]
  },
  {
   "cell_type": "code",
   "execution_count": 22,
   "metadata": {
    "scrolled": false
   },
   "outputs": [
    {
     "name": "stdout",
     "output_type": "stream",
     "text": [
      "n_neighbors= 256  weights= distance\r"
     ]
    },
    {
     "data": {
      "text/plain": [
       "[Text(33,0.5,'Number of neighbors'), Text(0.5,15,'Weights')]"
      ]
     },
     "execution_count": 22,
     "metadata": {},
     "output_type": "execute_result"
    },
    {
     "data": {
      "image/png": "[encoded data removed]",
      "text/plain": [
       "<matplotlib.figure.Figure at 0x10e468a20>"
      ]
     },
     "metadata": {},
     "output_type": "display_data"
    }
   ],
   "source": [
    "Xtraintemp,Xtesttemp,Ytraintemp, Ytesttemp = mo.train_test_split(xtrainsel, Ytrain, random_state=555953)\n",
    "Ytraintemp=(Ytraintemp>1500)\n",
    "Ytesttemp=(Ytesttemp>1500)\n",
    "accuracies=[]\n",
    "i=0\n",
    "for nn in [1, 2, 4, 8, 16, 32, 64, 128, 256]:\n",
    "    accuracies.append([])\n",
    "    for weight in ['uniform', 'distance']:\n",
    "        print(\"n_neighbors=\", nn, \" weights=\", weight, end=\"\\r\")\n",
    "        mod=neigh.KNeighborsClassifier(n_neighbors=nn, weights=weight)\n",
    "        mod.fit(Xtraintemp,Ytraintemp)\n",
    "        accuracies[i].append(mod.score(Xtesttemp,Ytesttemp))\n",
    "    i=i+1\n",
    "ax = sns.heatmap(accuracies, yticklabels=[1, 2, 4, 8, 16, 32, 64, 128, 256],  xticklabels=['uniform', 'distance'])\n",
    "ax.set(xlabel='Weights', ylabel='Number of neighbors')"
   ]
  },
  {
   "cell_type": "markdown",
   "metadata": {},
   "source": [
    "Vemos que ambos modelos tienen su mejor predicción en 128 vecinos. Sin embargo, es mejor siempre el peso ponderado por distancia al no ponderado, excepto en el caso de los dos vecinos más cercanos. \n",
    "\n",
    "**El mejor modelo, con base en las gráficas, parece ser Random Forest con 512 estimadores y profundidad de 16.** \n",
    "\n",
    "A continuación observaremos ese modelo a mayor detalle.\n",
    "\n",
    "## 3.4 Random forest a mayor detalle: Selección de thresholds\n",
    "\n",
    "Hemos elegido como mejor modelo a RF porque fue el que dió mayor precisión. Ahora lo veremos a mayor detalle. Para empezar, veremos cómo se comporta la curva ROC. Es importante porque nos da información acerca de cómo ir bajando el threshold de \"popularidad\" aumenta los falsos positivos pero también decrece los falsos negativos. "
   ]
  },
  {
   "cell_type": "code",
   "execution_count": 78,
   "metadata": {},
   "outputs": [
    {
     "data": {
      "text/plain": [
       "RandomForestClassifier(bootstrap=True, class_weight=None, criterion='gini',\n",
       "            max_depth=16, max_features='auto', max_leaf_nodes=None,\n",
       "            min_impurity_decrease=0.0, min_impurity_split=None,\n",
       "            min_samples_leaf=1, min_samples_split=2,\n",
       "            min_weight_fraction_leaf=0.0, n_estimators=512, n_jobs=1,\n",
       "            oob_score=False, random_state=555953, verbose=0,\n",
       "            warm_start=False)"
      ]
     },
     "execution_count": 78,
     "metadata": {},
     "output_type": "execute_result"
    }
   ],
   "source": [
    "Ytrain=(Ytrain>1500)\n",
    "Ytest=(Ytest>1500)\n",
    "mod=ens.RandomForestClassifier(n_estimators=512, max_depth=16, random_state=555953)\n",
    "mod.fit(Xtrainst,Ytrain)"
   ]
  },
  {
   "cell_type": "code",
   "execution_count": 79,
   "metadata": {
    "scrolled": false
   },
   "outputs": [
    {
     "data": {
      "image/png": "[encoded data removed]",
      "text/plain": [
       "<matplotlib.figure.Figure at 0x10ed18710>"
      ]
     },
     "metadata": {},
     "output_type": "display_data"
    }
   ],
   "source": [
    "y_scoretup = mod.predict_proba(Xtestst)\n",
    "y_score=[]\n",
    "s=0\n",
    "for ok in y_scoretup:\n",
    "    y_score.append(ok[1])\n",
    "\n",
    "# Compute ROC curve and ROC area for each class\n",
    "fpr = dict()\n",
    "tpr = dict()\n",
    "roc_auc = dict()\n",
    "for i in range(1):\n",
    "    fpr[i], tpr[i], _ = roc_curve(Ytest, y_score)\n",
    "    roc_auc[i] = auc(fpr[i], tpr[i])\n",
    "\n",
    "# Compute micro-average ROC curve and ROC area\n",
    "fpr[\"micro\"], tpr[\"micro\"], _ = roc_curve(Ytest.ravel(), y_score)\n",
    "roc_auc[\"micro\"] = auc(fpr[\"micro\"], tpr[\"micro\"])\n",
    "\n",
    "plt.figure()\n",
    "lw = 2\n",
    "plt.plot(fpr[0], tpr[0], color='darkorange',\n",
    "         lw=lw, label='ROC curve (area = %0.2f)' % roc_auc[0])\n",
    "plt.plot([0, 1], [0, 1], color='navy', lw=lw, linestyle='--')\n",
    "plt.xlim([0.0, 1.0])\n",
    "plt.ylim([0.0, 1.05])\n",
    "plt.xlabel('False Positive Rate')\n",
    "plt.ylabel('True Positive Rate')\n",
    "plt.title('ROC curve for predictions')\n",
    "plt.legend(loc=\"lower right\")\n",
    "plt.show()"
   ]
  },
  {
   "cell_type": "markdown",
   "metadata": {},
   "source": [
    "Con base en la curva podemos ver que un FPR de 50% logtamos un TPR cercano a 80%. A continuación damos más información de esta relación."
   ]
  },
  {
   "cell_type": "code",
   "execution_count": 80,
   "metadata": {},
   "outputs": [
    {
     "name": "stdout",
     "output_type": "stream",
     "text": [
      "Para encontrar el  20 % más propenso a ser popular, un  5.0 % de los negativos será confundido con popular\n",
      "Para encontrar el  40 % más propenso a ser popular, un  13.0 % de los negativos será confundido con popular\n",
      "Para encontrar el  60 % más propenso a ser popular, un  27.0 % de los negativos será confundido con popular\n",
      "Para encontrar el  80 % más propenso a ser popular, un  48.0 % de los negativos será confundido con popular\n"
     ]
    }
   ],
   "source": [
    "nextv=0.2\n",
    "index=0\n",
    "while nextv<1:\n",
    "    while tpr[0][index]<nextv:\n",
    "        index=index+1\n",
    "    print(\"Para encontrar el \", round(nextv*100), \"% más propenso a ser popular, un \", round(fpr[0][index]*100), \"% de los negativos será confundido con popular\")\n",
    "    nextv=nextv+0.2"
   ]
  },
  {
   "cell_type": "markdown",
   "metadata": {},
   "source": [
    "Ahora veremos, para distintos thresholds, qué porcentaje de lo predicho correctamente positivo será negativo; y qué porcentaje de las noticias serían clasificadas positivas"
   ]
  },
  {
   "cell_type": "code",
   "execution_count": 105,
   "metadata": {},
   "outputs": [
    {
     "name": "stdout",
     "output_type": "stream",
     "text": [
      "999\r"
     ]
    }
   ],
   "source": [
    "threshs=range(1000)\n",
    "perc_pos=[]\n",
    "perc_corr_pos=[]\n",
    "xaxis=[]\n",
    "for k in threshs:\n",
    "    print(k, end=\"\\r\")\n",
    "    k=k/1000\n",
    "    y_pred_th=[i>k for i in y_score]\n",
    "    if sum(y_pred_th)>0:\n",
    "        xaxis.append(k)\n",
    "        perc_pos.append(sum([i>k for i in y_score])/len(y_score))\n",
    "        perc_corr_pos.append(precision_score(Ytest.ravel(), y_pred_th))"
   ]
  },
  {
   "cell_type": "code",
   "execution_count": 110,
   "metadata": {},
   "outputs": [
    {
     "data": {
      "image/png": "[encoded data removed]",
      "text/plain": [
       "<matplotlib.figure.Figure at 0x114c8aef0>"
      ]
     },
     "metadata": {},
     "output_type": "display_data"
    }
   ],
   "source": [
    "plt.plot(xaxis, perc_pos, color='red')\n",
    "plt.plot(xaxis, perc_corr_pos, color='green')\n",
    "plt.legend(['Percentage predicted as popular', 'Percentage of popular articles in prediction'])\n",
    "plt.xlabel(\"Threshold\")\n",
    "plt.show()\n"
   ]
  },
  {
   "cell_type": "markdown",
   "metadata": {},
   "source": [
    "Con base en la curva anterior, podemos ver que si la empresa quiere una mayor precisión en sus predicciones, puede mover el threshold de decisión para aumentarla. A continuación ejemlos:"
   ]
  },
  {
   "cell_type": "code",
   "execution_count": 122,
   "metadata": {},
   "outputs": [
    {
     "name": "stdout",
     "output_type": "stream",
     "text": [
      "Con un threshold de  10 %:\n",
      "El  100.0 % de los artículos serán clasificados como populares. De esos, el  46.0 % lo serán realmente\n",
      "Con un threshold de  20 %:\n",
      "El  92.0 % de los artículos serán clasificados como populares. De esos, el  48.0 % lo serán realmente\n",
      "Con un threshold de  30 %:\n",
      "El  80.0 % de los artículos serán clasificados como populares. De esos, el  52.0 % lo serán realmente\n",
      "Con un threshold de  40 %:\n",
      "El  63.0 % de los artículos serán clasificados como populares. De esos, el  58.0 % lo serán realmente\n",
      "Con un threshold de  50 %:\n",
      "El  43.0 % de los artículos serán clasificados como populares. De esos, el  65.0 % lo serán realmente\n",
      "Con un threshold de  60 %:\n",
      "El  22.0 % de los artículos serán clasificados como populares. De esos, el  73.0 % lo serán realmente\n",
      "Con un threshold de  70 %:\n",
      "El  8.0 % de los artículos serán clasificados como populares. De esos, el  80.0 % lo serán realmente\n",
      "Con un threshold de  80 %:\n",
      "El  2.0 % de los artículos serán clasificados como populares. De esos, el  93.0 % lo serán realmente\n",
      "Con un threshold de  90 %:\n",
      "El  0.0 % de los artículos serán clasificados como populares. De esos, el  100.0 % lo serán realmente\n"
     ]
    }
   ],
   "source": [
    "nextv=0.1\n",
    "index=0\n",
    "while nextv<1 and index<len(xaxis):\n",
    "    while xaxis[index]<nextv:\n",
    "        index=index+1\n",
    "        if index==len(xaxis):\n",
    "            break\n",
    "    if index!=len(xaxis):\n",
    "        print(\"Con un threshold de \", round(xaxis[index]*100), \"%:\\nEl \", round(perc_pos[index]*100), \"% de los artículos serán clasificados como populares. De esos, el \",round(perc_corr_pos[index]*100),\"% lo serán realmente\")\n",
    "    nextv=nextv+0.1"
   ]
  },
  {
   "cell_type": "markdown",
   "metadata": {},
   "source": [
    "Nosotros recomendaríamos un threshold de 60% o 50% dependiendo de las prioridades de la empresa. "
   ]
  },
  {
   "cell_type": "markdown",
   "metadata": {},
   "source": [
    "# 4 Utilización de la información\n",
    "\n",
    "Hemos elegido el modelo ganador y otorgado el comportamiento de las predicciones para distintos thresholds. Sin embargo, queda la pregunta: ¿Cómo se usará el modelo para mejorar a la empresa? De entrada, saber la popularidad de una noticia de antemano es positivo. Así la empresa puede saber en qué invertir sus recursos para publicidad, por ejemplo. Sin embargo, buscamos utilizar este modelo para saber qué será lo mejor para cambiar las noticias no populares.\n",
    "\n",
    "Hicimos una función que encuentra cuál métrica, siendo aumentada en (1/2) desviación estándar, ofrece mejor aumento en popularidad. Cada vez que se escribiera una noticia, se podrían ingresar sus parámetros en nuestro método $MejorarNoticia$ y se obtendrá la mejor variable para aumentar su probabilidad de popularidad. Posteriormente, probamos esto para 200 noticias al azar, para ver si hay parámetros que mejoren a todas las noticias de manera general. Si es el caso, esto daría ideas para implementar políticas dentro de la empresa."
   ]
  },
  {
   "cell_type": "code",
   "execution_count": 179,
   "metadata": {
    "scrolled": true
   },
   "outputs": [
    {
     "name": "stdout",
     "output_type": "stream",
     "text": [
      "199 / 200\r"
     ]
    }
   ],
   "source": [
    "triples=[]\n",
    "for s in range(200):\n",
    "    print(s, \"/\",200, end=\"\\r\" )\n",
    "    triples.append(MejorarNoticia(pd.DataFrame(Xtestst.ix[s].values.reshape(1,-1), columns=Xtestst.keys()), mod))"
   ]
  },
  {
   "cell_type": "code",
   "execution_count": 194,
   "metadata": {},
   "outputs": [
    {
     "data": {
      "text/html": [
       "<div>\n",
       "<style scoped>\n",
       "    .dataframe tbody tr th:only-of-type {\n",
       "        vertical-align: middle;\n",
       "    }\n",
       "\n",
       "    .dataframe tbody tr th {\n",
       "        vertical-align: top;\n",
       "    }\n",
       "\n",
       "    .dataframe thead tr th {\n",
       "        text-align: left;\n",
       "    }\n",
       "\n",
       "    .dataframe thead tr:last-of-type th {\n",
       "        text-align: right;\n",
       "    }\n",
       "</style>\n",
       "<table border=\"1\" class=\"dataframe\">\n",
       "  <thead>\n",
       "    <tr>\n",
       "      <th></th>\n",
       "      <th></th>\n",
       "      <th colspan=\"2\" halign=\"left\">Cambio</th>\n",
       "    </tr>\n",
       "    <tr>\n",
       "      <th></th>\n",
       "      <th></th>\n",
       "      <th>mean</th>\n",
       "      <th>count</th>\n",
       "    </tr>\n",
       "    <tr>\n",
       "      <th>Variable</th>\n",
       "      <th>Signo</th>\n",
       "      <th></th>\n",
       "      <th></th>\n",
       "    </tr>\n",
       "  </thead>\n",
       "  <tbody>\n",
       "    <tr>\n",
       "      <th>LDA_03</th>\n",
       "      <th>-1</th>\n",
       "      <td>0.023126</td>\n",
       "      <td>1</td>\n",
       "    </tr>\n",
       "    <tr>\n",
       "      <th rowspan=\"2\" valign=\"top\">average_token_length</th>\n",
       "      <th>-1</th>\n",
       "      <td>0.055865</td>\n",
       "      <td>2</td>\n",
       "    </tr>\n",
       "    <tr>\n",
       "      <th>1</th>\n",
       "      <td>0.015868</td>\n",
       "      <td>1</td>\n",
       "    </tr>\n",
       "    <tr>\n",
       "      <th rowspan=\"2\" valign=\"top\">global_subjectivity</th>\n",
       "      <th>-1</th>\n",
       "      <td>0.015094</td>\n",
       "      <td>1</td>\n",
       "    </tr>\n",
       "    <tr>\n",
       "      <th>1</th>\n",
       "      <td>0.033943</td>\n",
       "      <td>3</td>\n",
       "    </tr>\n",
       "    <tr>\n",
       "      <th>kw_avg_avg</th>\n",
       "      <th>1</th>\n",
       "      <td>0.086388</td>\n",
       "      <td>47</td>\n",
       "    </tr>\n",
       "    <tr>\n",
       "      <th>kw_avg_max</th>\n",
       "      <th>1</th>\n",
       "      <td>0.016062</td>\n",
       "      <td>1</td>\n",
       "    </tr>\n",
       "    <tr>\n",
       "      <th>kw_avg_min</th>\n",
       "      <th>1</th>\n",
       "      <td>0.042614</td>\n",
       "      <td>6</td>\n",
       "    </tr>\n",
       "    <tr>\n",
       "      <th rowspan=\"2\" valign=\"top\">kw_max_avg</th>\n",
       "      <th>-1</th>\n",
       "      <td>0.038357</td>\n",
       "      <td>1</td>\n",
       "    </tr>\n",
       "    <tr>\n",
       "      <th>1</th>\n",
       "      <td>0.090051</td>\n",
       "      <td>21</td>\n",
       "    </tr>\n",
       "    <tr>\n",
       "      <th rowspan=\"2\" valign=\"top\">kw_max_min</th>\n",
       "      <th>-1</th>\n",
       "      <td>0.030501</td>\n",
       "      <td>1</td>\n",
       "    </tr>\n",
       "    <tr>\n",
       "      <th>1</th>\n",
       "      <td>0.033259</td>\n",
       "      <td>3</td>\n",
       "    </tr>\n",
       "    <tr>\n",
       "      <th>kw_min_avg</th>\n",
       "      <th>1</th>\n",
       "      <td>0.062199</td>\n",
       "      <td>12</td>\n",
       "    </tr>\n",
       "    <tr>\n",
       "      <th>kw_min_max</th>\n",
       "      <th>1</th>\n",
       "      <td>0.020731</td>\n",
       "      <td>1</td>\n",
       "    </tr>\n",
       "    <tr>\n",
       "      <th>min_positive_polarity</th>\n",
       "      <th>-1</th>\n",
       "      <td>0.049449</td>\n",
       "      <td>1</td>\n",
       "    </tr>\n",
       "    <tr>\n",
       "      <th rowspan=\"2\" valign=\"top\">n_non_stop_unique_tokens</th>\n",
       "      <th>-1</th>\n",
       "      <td>0.060197</td>\n",
       "      <td>8</td>\n",
       "    </tr>\n",
       "    <tr>\n",
       "      <th>1</th>\n",
       "      <td>0.103452</td>\n",
       "      <td>1</td>\n",
       "    </tr>\n",
       "    <tr>\n",
       "      <th>n_tokens_title</th>\n",
       "      <th>1</th>\n",
       "      <td>0.023750</td>\n",
       "      <td>1</td>\n",
       "    </tr>\n",
       "    <tr>\n",
       "      <th>n_unique_tokens</th>\n",
       "      <th>-1</th>\n",
       "      <td>0.054244</td>\n",
       "      <td>8</td>\n",
       "    </tr>\n",
       "    <tr>\n",
       "      <th>num_hrefs</th>\n",
       "      <th>1</th>\n",
       "      <td>0.013541</td>\n",
       "      <td>2</td>\n",
       "    </tr>\n",
       "    <tr>\n",
       "      <th>num_imgs</th>\n",
       "      <th>1</th>\n",
       "      <td>0.038695</td>\n",
       "      <td>6</td>\n",
       "    </tr>\n",
       "    <tr>\n",
       "      <th>num_self_hrefs</th>\n",
       "      <th>1</th>\n",
       "      <td>0.012703</td>\n",
       "      <td>1</td>\n",
       "    </tr>\n",
       "    <tr>\n",
       "      <th>self_reference_avg_sharess</th>\n",
       "      <th>1</th>\n",
       "      <td>0.070439</td>\n",
       "      <td>21</td>\n",
       "    </tr>\n",
       "    <tr>\n",
       "      <th>self_reference_max_shares</th>\n",
       "      <th>1</th>\n",
       "      <td>0.030542</td>\n",
       "      <td>4</td>\n",
       "    </tr>\n",
       "    <tr>\n",
       "      <th>self_reference_min_shares</th>\n",
       "      <th>1</th>\n",
       "      <td>0.077737</td>\n",
       "      <td>42</td>\n",
       "    </tr>\n",
       "    <tr>\n",
       "      <th rowspan=\"2\" valign=\"top\">timedelta</th>\n",
       "      <th>-1</th>\n",
       "      <td>0.054966</td>\n",
       "      <td>1</td>\n",
       "    </tr>\n",
       "    <tr>\n",
       "      <th>1</th>\n",
       "      <td>0.075641</td>\n",
       "      <td>3</td>\n",
       "    </tr>\n",
       "  </tbody>\n",
       "</table>\n",
       "</div>"
      ],
      "text/plain": [
       "                                     Cambio      \n",
       "                                       mean count\n",
       "Variable                    Signo                \n",
       " LDA_03                     -1     0.023126     1\n",
       " average_token_length       -1     0.055865     2\n",
       "                             1     0.015868     1\n",
       " global_subjectivity        -1     0.015094     1\n",
       "                             1     0.033943     3\n",
       " kw_avg_avg                  1     0.086388    47\n",
       " kw_avg_max                  1     0.016062     1\n",
       " kw_avg_min                  1     0.042614     6\n",
       " kw_max_avg                 -1     0.038357     1\n",
       "                             1     0.090051    21\n",
       " kw_max_min                 -1     0.030501     1\n",
       "                             1     0.033259     3\n",
       " kw_min_avg                  1     0.062199    12\n",
       " kw_min_max                  1     0.020731     1\n",
       " min_positive_polarity      -1     0.049449     1\n",
       " n_non_stop_unique_tokens   -1     0.060197     8\n",
       "                             1     0.103452     1\n",
       " n_tokens_title              1     0.023750     1\n",
       " n_unique_tokens            -1     0.054244     8\n",
       " num_hrefs                   1     0.013541     2\n",
       " num_imgs                    1     0.038695     6\n",
       " num_self_hrefs              1     0.012703     1\n",
       " self_reference_avg_sharess  1     0.070439    21\n",
       " self_reference_max_shares   1     0.030542     4\n",
       " self_reference_min_shares   1     0.077737    42\n",
       " timedelta                  -1     0.054966     1\n",
       "                             1     0.075641     3"
      ]
     },
     "execution_count": 194,
     "metadata": {},
     "output_type": "execute_result"
    }
   ],
   "source": [
    "pd.DataFrame(triples, columns=[\"Variable\", \"Cambio\", \"Signo\"])[['Variable','Signo', 'Cambio']].groupby([\"Variable\", \"Signo\"]).agg(['mean','count'])"
   ]
  },
  {
   "cell_type": "markdown",
   "metadata": {},
   "source": [
    "La tabla anterior muestra cómo se distribuyen las mejores variables para aumentar popularidad. La primera columna denota qué variable se trata. La segunda denota si aumentar la probabilidad se logra aumentándola (1) o reduciéndola (-1) en media desviación estándar. Finalmente, aparece en promedio en cuánto aumentaría la popularidad de forma hipotética en promedio, y el número de artículos cuya popularidad aumenta al máximo al aumentar esa variable. Con base en la tabla, podemos inferir que lo ideal para mejorar un artículo es que el promedio de veces compartidas de las _keywords_ de un artículo (kw_avg_avg) sean más alto para 47 casos de 200. También ayuda que el mínimo de los artículos referenciados (self_reference_min_shares) sea más alto para 42 artículos.  \n",
    "\n",
    "Lo anterior, puede dar cuenta de qué políticas puede implementar la empresa para construir sus artículos de tal forma que sean más veces compartidos en medios (populares)."
   ]
  },
  {
   "cell_type": "markdown",
   "metadata": {},
   "source": [
    "# 5 Conclusión\n",
    "\n",
    "Nosotros hemos visto que un modelo de Random forest con bastantes estimadores y algo de profundidad puede ser un buen predictor para la popularidad, medida como el número de veces que se comparte un artículo. Queda como trabajo futuro:\n",
    "\n",
    "* Predecir artículos muy populares y muy impopulares\n",
    "* Predecir la cantidad de veces que se comparte un artículo\n",
    "\n",
    "El modelo que hicimos es muy versátil. Las prioridades de la empresa podrán definir cuál será el mejor threshold. Por ejemplo, si es menos costoso que un articulo sea pronosticado como no popular y en realidad sí lo sea (un falso positivo), la empresa puede poner el threshold más bajo. En sentido opuesto, si prefiere sólo predicciones seguras, lo puede poner muy alto. Aprendimos que hay variables que son la mejor variable (entre las 32 que usamos al final) para mejorar de forma muy común. Las recomendaciones que haríamos a la empresa con base en lo visto sería:\n",
    "* Predcir la popularidad de los artículos. Con base en la probabilidad, otorgar más o menos publicidad a cada uno. \n",
    "* Dar prioridad a mejorar las métricas que vimos que son más importantes. "
   ]
  },
  {
   "cell_type": "markdown",
   "metadata": {},
   "source": [
    "# Referencias\n",
    "\n",
    "K. Fernandes, P. Vinagre and P. Cortez. A Proactive Intelligent Decision Support System for Predicting the Popularity of Online News. Proceedings of the 17th EPIA 2015 - Portuguese Conference on Artificial Intelligence, September, Coimbra, Portugal.\n",
    "\n",
    "Sasa Petrovic, Miles Osborne, and Victor Lavrenko. RT to Win! Predicting Message\n",
    "Propagation in Twitter. In Fifth International AAAI Conference on Weblogs and Social Media (ICWSM), pages 586–589, 2011.\n",
    "\n",
    "Elena Hensinger, Ilias Flaounas, and Nello Cristianini. Modelling and predicting\n",
    "news popularity. Pattern Analysis and Applications, 16(4):623–635, 2013"
   ]
  }
 ],
 "metadata": {
  "kernelspec": {
   "display_name": "Python 3",
   "language": "python",
   "name": "python3"
  },
  "language_info": {
   "codemirror_mode": {
    "name": "ipython",
    "version": 3
   },
   "file_extension": ".py",
   "mimetype": "text/x-python",
   "name": "python",
   "nbconvert_exporter": "python",
   "pygments_lexer": "ipython3",
   "version": "3.6.1"
  }
 },
 "nbformat": 4,
 "nbformat_minor": 2
}
